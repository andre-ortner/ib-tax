{
 "cells": [
  {
   "cell_type": "code",
   "execution_count": 1,
   "metadata": {},
   "outputs": [],
   "source": [
    "# 13.07.23 BG - Dateiname nach oben + Symbol Dazu \n",
    "# 11.07.23 BG - leeres Datum bei MULTI wird korrekt abgebildet \n",
    "# 11.07.23 BG - Mit Ausgabe Dateinamen\n",
    "# 09.07.23 BG - Acount ID weg \n",
    "# 06.07.23 BG - bessere Namensgebung \n",
    "# 06.07.23 BG - underlyingSymbol ergänzt \n",
    "# 05.07.23 BG - levelOfDetail ergänzt um später bei der Auswertung nach BaseCurrency filtern zu können\n",
    "# 04.07.23 BG - currency -> IBcurrency \n",
    "# 22.06.23 Bg - Ausgabe mit +-Zeichen \n",
    "# 21.06.23 BG - Version 1.1. - Feldnamen sidn ale OK \n",
    "# 18.06.23 BG - amount fehlte als Feld \n",
    "# 15.06.23 BG - Version 1.0 - Fertig, Tabelle wird erfolgreich gefüllt \n",
    "# 15.06.23 BG - Neu gemacht, da irgend was weg geworfen \n",
    "# 12.06.23 BG - erster Wurf\n",
    "#\n",
    "# \n",
    "# verwendeter Report: Statment of Funds - Kapitalfluss Report \n",
    "#\n",
    "# Infos zu dem Report \n",
    "# https://ibkrguides.com/reportingreference/reportguide/statement%20of%20fundsfq.htm\n",
    "#\n",
    "\n",
    "#------------ Diese Datei wird eingelesen \n",
    "\n",
    "#dateiname = \"Statements_LX_2023-01_02.xml\"\n",
    "#dateiname = \"Statements.xml\"\n",
    "#dateiname = \"GmbH-Statements.xml\"\n",
    "dateiname = \"2023_data.xml\"\n",
    "\n",
    "# --------------------------\n",
    "#import locale\n",
    "from babel.dates import format_date, format_datetime, format_time\n",
    "import pymysql\n",
    "from xml.dom.minidom import parse\n",
    "from datetime import datetime, date, time\n",
    "\n",
    "#import pyodbc  # Datenbankanbindung an Access \n",
    "\n",
    "#locale.setlocale(locale.LC_ALL, 'de_DE')\n",
    "#locale.setlocale(locale.decimal_point, ',' )\n",
    "#print (locale.localeconv())\n",
    "\n"
   ]
  },
  {
   "cell_type": "code",
   "execution_count": 2,
   "metadata": {},
   "outputs": [],
   "source": [
    "\n",
    "def insertStatements(dbCursor, statement):\n",
    "    global lastdate\n",
    "\n",
    "    transactionID = statement.getAttribute(\"transactionID\")\n",
    "    if transactionID != \"\":\n",
    "        transactionID = int(transactionID)\n",
    "    else:\n",
    "        transactionID = 0\n",
    "\n",
    "    accountID = statement.getAttribute(\"accountId\")\n",
    "\n",
    "    settledate = statement.getAttribute(\"settleDate\")\n",
    "    date = statement.getAttribute(\"date\")\n",
    "    if settledate == \"MULTI\":\n",
    "        date = lastdate\n",
    "    else:\n",
    "        lastdate = date\n",
    "\n",
    "    formatting = \"%Y%m%d\"\n",
    "    datum = datetime.strptime(date, formatting)\n",
    "\n",
    "    amount = float(statement.getAttribute(\"amount\"))\n",
    "\n",
    "    IBcurrency = statement.getAttribute(\"currency\")\n",
    "    levelOfDetail = statement.getAttribute(\"levelOfDetail\")\n",
    "\n",
    "    balance = float(statement.getAttribute(\"balance\"))\n",
    "    balance = round(balance, 2)\n",
    "\n",
    "    description = statement.getAttribute(\"description\")\n",
    "    activityCode = statement.getAttribute(\"activityCode\")\n",
    "    activityDescription = statement.getAttribute(\"activityDescription\")\n",
    "\n",
    "    symbol = statement.getAttribute(\"symbol\")\n",
    "    underlyingSymbol = statement.getAttribute(\"underlyingSymbol\")\n",
    "\n",
    "    # In the MySQL version, we will use parameterized queries to prevent SQL injection\n",
    "    sql = \"INSERT INTO statements (transactionID, accountID, datum, amount, IBcurrency, levelOfDetail, balance, description, activityCode, activityDescription, symbol, underlyingSymbol) \"\n",
    "    sql += \"VALUES (%s, %s, %s, %s, %s, %s, %s, %s, %s, %s, %s, %s)\"\n",
    "    data = (transactionID, accountID, datum, amount, IBcurrency, levelOfDetail, balance, description, activityCode, activityDescription, symbol, underlyingSymbol)\n",
    "\n",
    "    dbCursor.execute(sql, data)\n"
   ]
  },
  {
   "cell_type": "code",
   "execution_count": 3,
   "metadata": {},
   "outputs": [],
   "source": [
    "# --------- Start des Programms --------------------------\n",
    "lastdate = None \n",
    "\n",
    "# Verbindung zur Datenbank herstellen\n",
    "dbConn = pymysql.Connect(\n",
    "    host='localhost',\n",
    "    port=3306,\n",
    "    user='root',\n",
    "    password='root',\n",
    "    db='IB',\n",
    "    charset='utf8'\n",
    ")\n",
    "\n",
    "dbCursor = dbConn.cursor()"
   ]
  },
  {
   "cell_type": "code",
   "execution_count": 4,
   "metadata": {},
   "outputs": [
    {
     "data": {
      "text/plain": [
       "514"
      ]
     },
     "execution_count": 4,
     "metadata": {},
     "output_type": "execute_result"
    }
   ],
   "source": [
    "#Delete database\n",
    "sql= \"DELETE FROM statements\"\n",
    "dbCursor.execute(sql) "
   ]
  },
  {
   "cell_type": "code",
   "execution_count": 5,
   "metadata": {},
   "outputs": [
    {
     "name": "stdout",
     "output_type": "stream",
     "text": [
      "Start mit 2023_data.xml\n",
      "++++++++++++++++++++++++++++++++++++++++++++++++++++++++++++++++++++++++++++++++++++++++++++++++++++++++++++++++++++++++++++++++++++++++++++++++++++++++++++++++++++++++++++++++++++++++++++++++++++++++++++++++++++++++++++++++++++++++++++++++++++++++++++++++++++++++++++++++++++++++++++++++++++++++++++++++++++++++++++++++++++++++++++++++++++++++++++++++++++++++++++++++++++++++++++++++++++++++++++++++++++++++++++++++++++++++++++++++++++++++++++++++++++++++++++++++++++++++++++++++++++++++++++++++++++++++++++++++++\n",
      "Anzahl Datensätze eingetragen : 514\n",
      "Fertig mit 2023_data.xml\n"
     ]
    }
   ],
   "source": [
    "# Insert statements\n",
    "domobject = parse(dateiname)\n",
    "elementname = 'StatementOfFundsLine'\n",
    "\n",
    "print (f\"Start mit {dateiname}\")\n",
    "\n",
    "i = 0 ; \n",
    "limit = 10000 #100  \n",
    "for statement in domobject.getElementsByTagName(elementname):\n",
    "    #Insert into database\n",
    "    insertStatements(dbCursor, statement)\n",
    "\n",
    "    i = i+1\n",
    "    if i % limit == 0  :\n",
    "        print (\"\")\n",
    "        print (i, end=\"\")\n",
    "    print(\"+\", end=\"\")\n",
    "\n",
    "print (\"\")\n",
    "print ( \"Anzahl Datensätze eingetragen :\" , i ) \n",
    "\n",
    "# Änderungen in der Datenbank speichern\n",
    "dbConn.commit()\n",
    "# Verbindung schließen\n",
    "dbConn.close()\n",
    "\n",
    "print(f\"Fertig mit {dateiname}\")\n"
   ]
  }
 ],
 "metadata": {
  "kernelspec": {
   "display_name": "Python 3 (ipykernel)",
   "language": "python",
   "name": "python3"
  },
  "language_info": {
   "codemirror_mode": {
    "name": "ipython",
    "version": 3
   },
   "file_extension": ".py",
   "mimetype": "text/x-python",
   "name": "python",
   "nbconvert_exporter": "python",
   "pygments_lexer": "ipython3",
   "version": "3.10.12"
  }
 },
 "nbformat": 4,
 "nbformat_minor": 2
}
